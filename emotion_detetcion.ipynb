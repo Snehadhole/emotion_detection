{
  "nbformat": 4,
  "nbformat_minor": 0,
  "metadata": {
    "colab": {
      "name": "Untitled2.ipynb",
      "provenance": [],
      "collapsed_sections": [],
      "toc_visible": true
    },
    "kernelspec": {
      "name": "python3",
      "display_name": "Python 3"
    },
    "accelerator": "GPU"
  },
  "cells": [
    {
      "cell_type": "markdown",
      "metadata": {
        "id": "uGVOtmBzd4bi",
        "colab_type": "text"
      },
      "source": [
        "Env "
      ]
    },
    {
      "cell_type": "code",
      "metadata": {
        "id": "bj8nacgJbg-a",
        "colab_type": "code",
        "outputId": "eddfc621-692f-4e7e-af84-4198b8b5b90f",
        "colab": {
          "base_uri": "https://localhost:8080/",
          "height": 481
        }
      },
      "source": [
        "!pip3 install virtualenv\n",
        "!virtualenv theanoEnv"
      ],
      "execution_count": 1,
      "outputs": [
        {
          "output_type": "stream",
          "text": [
            "Collecting virtualenv\n",
            "\u001b[?25l  Downloading https://files.pythonhosted.org/packages/82/34/ae98cb0c3eca73b871d51b8f27af0389c746f0e166cd3b2ab31f41085b82/virtualenv-20.0.17-py2.py3-none-any.whl (4.6MB)\n",
            "\u001b[K     |████████████████████████████████| 4.6MB 28kB/s \n",
            "\u001b[?25hRequirement already satisfied: six<2,>=1.9.0 in /usr/local/lib/python3.6/dist-packages (from virtualenv) (1.12.0)\n",
            "Collecting importlib-resources<2,>=1.0; python_version < \"3.7\"\n",
            "  Downloading https://files.pythonhosted.org/packages/8f/36/e678bc02cad98e566fbd7e6711ab2f389fc9adfb1edbb9f553eae41f9f97/importlib_resources-1.4.0-py2.py3-none-any.whl\n",
            "Collecting distlib<1,>=0.3.0\n",
            "\u001b[?25l  Downloading https://files.pythonhosted.org/packages/7d/29/694a3a4d7c0e1aef76092e9167fbe372e0f7da055f5dcf4e1313ec21d96a/distlib-0.3.0.zip (571kB)\n",
            "\u001b[K     |████████████████████████████████| 573kB 45.7MB/s \n",
            "\u001b[?25hRequirement already satisfied: filelock<4,>=3.0.0 in /usr/local/lib/python3.6/dist-packages (from virtualenv) (3.0.12)\n",
            "Collecting appdirs<2,>=1.4.3\n",
            "  Downloading https://files.pythonhosted.org/packages/56/eb/810e700ed1349edde4cbdc1b2a21e28cdf115f9faf263f6bbf8447c1abf3/appdirs-1.4.3-py2.py3-none-any.whl\n",
            "Requirement already satisfied: importlib-metadata<2,>=0.12; python_version < \"3.8\" in /usr/local/lib/python3.6/dist-packages (from virtualenv) (1.6.0)\n",
            "Requirement already satisfied: zipp>=0.4; python_version < \"3.8\" in /usr/local/lib/python3.6/dist-packages (from importlib-resources<2,>=1.0; python_version < \"3.7\"->virtualenv) (3.1.0)\n",
            "Building wheels for collected packages: distlib\n",
            "  Building wheel for distlib (setup.py) ... \u001b[?25l\u001b[?25hdone\n",
            "  Created wheel for distlib: filename=distlib-0.3.0-cp36-none-any.whl size=340429 sha256=c0b69282e0d45e78736ad732fc09cd767d6ee4fd37b29092449026c3cd7953dd\n",
            "  Stored in directory: /root/.cache/pip/wheels/6e/e8/db/c73dae4867666e89ba3cfbc4b5c092446f0e584eda6f409cbb\n",
            "Successfully built distlib\n",
            "Installing collected packages: importlib-resources, distlib, appdirs, virtualenv\n",
            "Successfully installed appdirs-1.4.3 distlib-0.3.0 importlib-resources-1.4.0 virtualenv-20.0.17\n",
            "created virtual environment CPython3.6.9.final.0-64 in 316ms\n",
            "  creator CPython3Posix(dest=/content/theanoEnv, clear=False, global=False)\n",
            "  seeder FromAppData(download=False, pip=latest, setuptools=latest, wheel=latest, via=copy, app_data_dir=/root/.local/share/virtualenv/seed-app-data/v1.0.1)\n",
            "  activators BashActivator,CShellActivator,FishActivator,PowerShellActivator,PythonActivator,XonshActivator\n"
          ],
          "name": "stdout"
        }
      ]
    },
    {
      "cell_type": "code",
      "metadata": {
        "id": "KeoLdvUfbkOD",
        "colab_type": "code",
        "colab": {}
      },
      "source": [
        "!source /content/theanoEnv/bin/activate theanoEnv"
      ],
      "execution_count": 0,
      "outputs": []
    },
    {
      "cell_type": "code",
      "metadata": {
        "id": "z7mH7Zd1TiXK",
        "colab_type": "code",
        "colab": {}
      },
      "source": [
        "import cv2"
      ],
      "execution_count": 0,
      "outputs": []
    },
    {
      "cell_type": "code",
      "metadata": {
        "id": "A1dBhTbDTn4R",
        "colab_type": "code",
        "colab": {}
      },
      "source": [
        "from google.colab.patches import cv2_imshow"
      ],
      "execution_count": 0,
      "outputs": []
    },
    {
      "cell_type": "markdown",
      "metadata": {
        "id": "249mGGif8QyZ",
        "colab_type": "text"
      },
      "source": [
        "#git repo\n",
        "\n"
      ]
    },
    {
      "cell_type": "code",
      "metadata": {
        "id": "QrcLu7d98RxQ",
        "colab_type": "code",
        "outputId": "2ee7b18f-0ed8-47dd-dedd-f8eaeda9f1b4",
        "colab": {
          "base_uri": "https://localhost:8080/",
          "height": 141
        }
      },
      "source": [
        "!git clone https://github.com/atulapra/Emotion-detection.git"
      ],
      "execution_count": 5,
      "outputs": [
        {
          "output_type": "stream",
          "text": [
            "Cloning into 'Emotion-detection'...\n",
            "remote: Enumerating objects: 6, done.\u001b[K\n",
            "remote: Counting objects: 100% (6/6), done.\u001b[K\n",
            "remote: Compressing objects: 100% (6/6), done.\u001b[K\n",
            "remote: Total 200 (delta 0), reused 3 (delta 0), pack-reused 194\u001b[K\n",
            "Receiving objects: 100% (200/200), 16.07 MiB | 3.34 MiB/s, done.\n",
            "Resolving deltas: 100% (90/90), done.\n"
          ],
          "name": "stdout"
        }
      ]
    },
    {
      "cell_type": "markdown",
      "metadata": {
        "id": "k-JLl54leESw",
        "colab_type": "text"
      },
      "source": [
        "move Emotion-detection for run requirenments.txt\n"
      ]
    },
    {
      "cell_type": "code",
      "metadata": {
        "id": "xA0RDnnC8vn-",
        "colab_type": "code",
        "outputId": "ad46d10e-fc7a-4c01-e31c-a48371bb4552",
        "colab": {
          "base_uri": "https://localhost:8080/",
          "height": 35
        }
      },
      "source": [
        "cd /content/Emotion-detection"
      ],
      "execution_count": 6,
      "outputs": [
        {
          "output_type": "stream",
          "text": [
            "/content/Emotion-detection\n"
          ],
          "name": "stdout"
        }
      ]
    },
    {
      "cell_type": "markdown",
      "metadata": {
        "id": "JaYQ7F07eON6",
        "colab_type": "text"
      },
      "source": [
        "run requirements.txt"
      ]
    },
    {
      "cell_type": "code",
      "metadata": {
        "id": "63xmygJL8v7G",
        "colab_type": "code",
        "outputId": "35a47713-b3e0-41f8-a173-9e44f21ce00e",
        "colab": {
          "base_uri": "https://localhost:8080/",
          "height": 1000
        }
      },
      "source": [
        "!pip install -r requirements.txt"
      ],
      "execution_count": 7,
      "outputs": [
        {
          "output_type": "stream",
          "text": [
            "Collecting numpy==1.17.4\n",
            "\u001b[?25l  Downloading https://files.pythonhosted.org/packages/d2/ab/43e678759326f728de861edbef34b8e2ad1b1490505f20e0d1f0716c3bf4/numpy-1.17.4-cp36-cp36m-manylinux1_x86_64.whl (20.0MB)\n",
            "\u001b[K     |████████████████████████████████| 20.0MB 161kB/s \n",
            "\u001b[?25hRequirement already satisfied: opencv-python==4.1.2.30 in /usr/local/lib/python3.6/dist-packages (from -r requirements.txt (line 2)) (4.1.2.30)\n",
            "Collecting tensorflow==2.1.0\n",
            "\u001b[?25l  Downloading https://files.pythonhosted.org/packages/85/d4/c0cd1057b331bc38b65478302114194bd8e1b9c2bbc06e300935c0e93d90/tensorflow-2.1.0-cp36-cp36m-manylinux2010_x86_64.whl (421.8MB)\n",
            "\u001b[K     |████████████████████████████████| 421.8MB 32kB/s \n",
            "\u001b[?25hCollecting tensorboard<2.2.0,>=2.1.0\n",
            "\u001b[?25l  Downloading https://files.pythonhosted.org/packages/d9/41/bbf49b61370e4f4d245d4c6051dfb6db80cec672605c91b1652ac8cc3d38/tensorboard-2.1.1-py3-none-any.whl (3.8MB)\n",
            "\u001b[K     |████████████████████████████████| 3.9MB 44.8MB/s \n",
            "\u001b[?25hRequirement already satisfied: keras-applications>=1.0.8 in /usr/local/lib/python3.6/dist-packages (from tensorflow==2.1.0->-r requirements.txt (line 3)) (1.0.8)\n",
            "Collecting tensorflow-estimator<2.2.0,>=2.1.0rc0\n",
            "\u001b[?25l  Downloading https://files.pythonhosted.org/packages/18/90/b77c328a1304437ab1310b463e533fa7689f4bfc41549593056d812fab8e/tensorflow_estimator-2.1.0-py2.py3-none-any.whl (448kB)\n",
            "\u001b[K     |████████████████████████████████| 450kB 53.0MB/s \n",
            "\u001b[?25hRequirement already satisfied: wrapt>=1.11.1 in /usr/local/lib/python3.6/dist-packages (from tensorflow==2.1.0->-r requirements.txt (line 3)) (1.12.1)\n",
            "Collecting gast==0.2.2\n",
            "  Downloading https://files.pythonhosted.org/packages/4e/35/11749bf99b2d4e3cceb4d55ca22590b0d7c2c62b9de38ac4a4a7f4687421/gast-0.2.2.tar.gz\n",
            "Requirement already satisfied: absl-py>=0.7.0 in /usr/local/lib/python3.6/dist-packages (from tensorflow==2.1.0->-r requirements.txt (line 3)) (0.9.0)\n",
            "Requirement already satisfied: keras-preprocessing>=1.1.0 in /usr/local/lib/python3.6/dist-packages (from tensorflow==2.1.0->-r requirements.txt (line 3)) (1.1.0)\n",
            "Requirement already satisfied: protobuf>=3.8.0 in /usr/local/lib/python3.6/dist-packages (from tensorflow==2.1.0->-r requirements.txt (line 3)) (3.10.0)\n",
            "Requirement already satisfied: six>=1.12.0 in /usr/local/lib/python3.6/dist-packages (from tensorflow==2.1.0->-r requirements.txt (line 3)) (1.12.0)\n",
            "Requirement already satisfied: grpcio>=1.8.6 in /usr/local/lib/python3.6/dist-packages (from tensorflow==2.1.0->-r requirements.txt (line 3)) (1.28.1)\n",
            "Requirement already satisfied: wheel>=0.26; python_version >= \"3\" in /usr/local/lib/python3.6/dist-packages (from tensorflow==2.1.0->-r requirements.txt (line 3)) (0.34.2)\n",
            "Requirement already satisfied: scipy==1.4.1; python_version >= \"3\" in /usr/local/lib/python3.6/dist-packages (from tensorflow==2.1.0->-r requirements.txt (line 3)) (1.4.1)\n",
            "Requirement already satisfied: astor>=0.6.0 in /usr/local/lib/python3.6/dist-packages (from tensorflow==2.1.0->-r requirements.txt (line 3)) (0.8.1)\n",
            "Requirement already satisfied: google-pasta>=0.1.6 in /usr/local/lib/python3.6/dist-packages (from tensorflow==2.1.0->-r requirements.txt (line 3)) (0.2.0)\n",
            "Requirement already satisfied: opt-einsum>=2.3.2 in /usr/local/lib/python3.6/dist-packages (from tensorflow==2.1.0->-r requirements.txt (line 3)) (3.2.0)\n",
            "Requirement already satisfied: termcolor>=1.1.0 in /usr/local/lib/python3.6/dist-packages (from tensorflow==2.1.0->-r requirements.txt (line 3)) (1.1.0)\n",
            "Requirement already satisfied: google-auth<2,>=1.6.3 in /usr/local/lib/python3.6/dist-packages (from tensorboard<2.2.0,>=2.1.0->tensorflow==2.1.0->-r requirements.txt (line 3)) (1.7.2)\n",
            "Requirement already satisfied: requests<3,>=2.21.0 in /usr/local/lib/python3.6/dist-packages (from tensorboard<2.2.0,>=2.1.0->tensorflow==2.1.0->-r requirements.txt (line 3)) (2.21.0)\n",
            "Requirement already satisfied: google-auth-oauthlib<0.5,>=0.4.1 in /usr/local/lib/python3.6/dist-packages (from tensorboard<2.2.0,>=2.1.0->tensorflow==2.1.0->-r requirements.txt (line 3)) (0.4.1)\n",
            "Requirement already satisfied: setuptools>=41.0.0 in /usr/local/lib/python3.6/dist-packages (from tensorboard<2.2.0,>=2.1.0->tensorflow==2.1.0->-r requirements.txt (line 3)) (46.1.3)\n",
            "Requirement already satisfied: markdown>=2.6.8 in /usr/local/lib/python3.6/dist-packages (from tensorboard<2.2.0,>=2.1.0->tensorflow==2.1.0->-r requirements.txt (line 3)) (3.2.1)\n",
            "Requirement already satisfied: werkzeug>=0.11.15 in /usr/local/lib/python3.6/dist-packages (from tensorboard<2.2.0,>=2.1.0->tensorflow==2.1.0->-r requirements.txt (line 3)) (1.0.1)\n",
            "Requirement already satisfied: h5py in /usr/local/lib/python3.6/dist-packages (from keras-applications>=1.0.8->tensorflow==2.1.0->-r requirements.txt (line 3)) (2.10.0)\n",
            "Requirement already satisfied: cachetools<3.2,>=2.0.0 in /usr/local/lib/python3.6/dist-packages (from google-auth<2,>=1.6.3->tensorboard<2.2.0,>=2.1.0->tensorflow==2.1.0->-r requirements.txt (line 3)) (3.1.1)\n",
            "Requirement already satisfied: rsa<4.1,>=3.1.4 in /usr/local/lib/python3.6/dist-packages (from google-auth<2,>=1.6.3->tensorboard<2.2.0,>=2.1.0->tensorflow==2.1.0->-r requirements.txt (line 3)) (4.0)\n",
            "Requirement already satisfied: pyasn1-modules>=0.2.1 in /usr/local/lib/python3.6/dist-packages (from google-auth<2,>=1.6.3->tensorboard<2.2.0,>=2.1.0->tensorflow==2.1.0->-r requirements.txt (line 3)) (0.2.8)\n",
            "Requirement already satisfied: urllib3<1.25,>=1.21.1 in /usr/local/lib/python3.6/dist-packages (from requests<3,>=2.21.0->tensorboard<2.2.0,>=2.1.0->tensorflow==2.1.0->-r requirements.txt (line 3)) (1.24.3)\n",
            "Requirement already satisfied: chardet<3.1.0,>=3.0.2 in /usr/local/lib/python3.6/dist-packages (from requests<3,>=2.21.0->tensorboard<2.2.0,>=2.1.0->tensorflow==2.1.0->-r requirements.txt (line 3)) (3.0.4)\n",
            "Requirement already satisfied: certifi>=2017.4.17 in /usr/local/lib/python3.6/dist-packages (from requests<3,>=2.21.0->tensorboard<2.2.0,>=2.1.0->tensorflow==2.1.0->-r requirements.txt (line 3)) (2020.4.5.1)\n",
            "Requirement already satisfied: idna<2.9,>=2.5 in /usr/local/lib/python3.6/dist-packages (from requests<3,>=2.21.0->tensorboard<2.2.0,>=2.1.0->tensorflow==2.1.0->-r requirements.txt (line 3)) (2.8)\n",
            "Requirement already satisfied: requests-oauthlib>=0.7.0 in /usr/local/lib/python3.6/dist-packages (from google-auth-oauthlib<0.5,>=0.4.1->tensorboard<2.2.0,>=2.1.0->tensorflow==2.1.0->-r requirements.txt (line 3)) (1.3.0)\n",
            "Requirement already satisfied: pyasn1>=0.1.3 in /usr/local/lib/python3.6/dist-packages (from rsa<4.1,>=3.1.4->google-auth<2,>=1.6.3->tensorboard<2.2.0,>=2.1.0->tensorflow==2.1.0->-r requirements.txt (line 3)) (0.4.8)\n",
            "Requirement already satisfied: oauthlib>=3.0.0 in /usr/local/lib/python3.6/dist-packages (from requests-oauthlib>=0.7.0->google-auth-oauthlib<0.5,>=0.4.1->tensorboard<2.2.0,>=2.1.0->tensorflow==2.1.0->-r requirements.txt (line 3)) (3.1.0)\n",
            "Building wheels for collected packages: gast\n",
            "  Building wheel for gast (setup.py) ... \u001b[?25l\u001b[?25hdone\n",
            "  Created wheel for gast: filename=gast-0.2.2-cp36-none-any.whl size=7540 sha256=9e91c2bd7de9b91dc50bde1bac7e15afbdaa421a938dd714ee11f6b0b988d40b\n",
            "  Stored in directory: /root/.cache/pip/wheels/5c/2e/7e/a1d4d4fcebe6c381f378ce7743a3ced3699feb89bcfbdadadd\n",
            "Successfully built gast\n",
            "\u001b[31mERROR: datascience 0.10.6 has requirement folium==0.2.1, but you'll have folium 0.8.3 which is incompatible.\u001b[0m\n",
            "\u001b[31mERROR: albumentations 0.1.12 has requirement imgaug<0.2.7,>=0.2.5, but you'll have imgaug 0.2.9 which is incompatible.\u001b[0m\n",
            "Installing collected packages: numpy, tensorboard, tensorflow-estimator, gast, tensorflow\n",
            "  Found existing installation: numpy 1.18.2\n",
            "    Uninstalling numpy-1.18.2:\n",
            "      Successfully uninstalled numpy-1.18.2\n",
            "  Found existing installation: tensorboard 2.2.0\n",
            "    Uninstalling tensorboard-2.2.0:\n",
            "      Successfully uninstalled tensorboard-2.2.0\n",
            "  Found existing installation: tensorflow-estimator 2.2.0rc0\n",
            "    Uninstalling tensorflow-estimator-2.2.0rc0:\n",
            "      Successfully uninstalled tensorflow-estimator-2.2.0rc0\n",
            "  Found existing installation: gast 0.3.3\n",
            "    Uninstalling gast-0.3.3:\n",
            "      Successfully uninstalled gast-0.3.3\n",
            "  Found existing installation: tensorflow 2.2.0rc2\n",
            "    Uninstalling tensorflow-2.2.0rc2:\n",
            "      Successfully uninstalled tensorflow-2.2.0rc2\n",
            "Successfully installed gast-0.2.2 numpy-1.17.4 tensorboard-2.1.1 tensorflow-2.1.0 tensorflow-estimator-2.1.0\n"
          ],
          "name": "stdout"
        },
        {
          "output_type": "display_data",
          "data": {
            "application/vnd.colab-display-data+json": {
              "pip_warning": {
                "packages": [
                  "numpy"
                ]
              }
            }
          },
          "metadata": {
            "tags": []
          }
        }
      ]
    },
    {
      "cell_type": "markdown",
      "metadata": {
        "id": "MKQmzOWzxjvK",
        "colab_type": "text"
      },
      "source": [
        "#all errors :\n",
        "1)** 020-04-14 03:44:46.544206: W tensorflow/stream_executor/platform/default/dso_loader.cc:55] Could not load dynamic library 'libnvinfer.so.6'; dlerror: libnvinfer.so.6: cannot open shared object file: No such file or directory; LD_LIBRARY_PATH: /usr/lib64-nvidia\n",
        "\n",
        "sol:\n",
        "!pip install tensorflow-gpu==2.0.0\n",
        "\n",
        "\n",
        "2): cannot connect to X server \n",
        "\n",
        "sol:\n",
        "cv2.imshow('Video', cv2.resize(frame,(1600,960),interpolation = cv2.INTER_CUBIC)\n",
        "\n",
        "3) \n",
        "Invalid number of channels in input image:\n",
        ">     'VScn::contains(scn)'\n",
        "> where\n",
        ">     'scn' is 1\n",
        "\n",
        "sol:\n"
      ]
    },
    {
      "cell_type": "markdown",
      "metadata": {
        "id": "O4Hy6SoqeUdG",
        "colab_type": "text"
      },
      "source": [
        "#extra"
      ]
    },
    {
      "cell_type": "code",
      "metadata": {
        "id": "SkQY98Cx967r",
        "colab_type": "code",
        "outputId": "8b1a1ee6-71cf-490b-e376-1ec455028f55",
        "colab": {
          "base_uri": "https://localhost:8080/",
          "height": 35
        }
      },
      "source": [
        "cd /content/Emotion-detection/src"
      ],
      "execution_count": 0,
      "outputs": [
        {
          "output_type": "stream",
          "text": [
            "/content/Emotion-detection/src\n"
          ],
          "name": "stdout"
        }
      ]
    },
    {
      "cell_type": "code",
      "metadata": {
        "id": "YezctE0z9na8",
        "colab_type": "code",
        "colab": {}
      },
      "source": [
        "!unzip /content/data.zip"
      ],
      "execution_count": 0,
      "outputs": []
    },
    {
      "cell_type": "code",
      "metadata": {
        "id": "VLphnyte9Ltj",
        "colab_type": "code",
        "colab": {}
      },
      "source": [
        "mv /content/kk.py /content/Emotion-detection/src/"
      ],
      "execution_count": 0,
      "outputs": []
    },
    {
      "cell_type": "code",
      "metadata": {
        "id": "kSesMfd2D1Zp",
        "colab_type": "code",
        "colab": {}
      },
      "source": [
        "!pip install tensorflow-gpu==2.0.0"
      ],
      "execution_count": 0,
      "outputs": []
    },
    {
      "cell_type": "markdown",
      "metadata": {
        "id": "V2Bz4Hi2zJJp",
        "colab_type": "text"
      },
      "source": [
        "#move pretaine model file into src"
      ]
    },
    {
      "cell_type": "code",
      "metadata": {
        "id": "xP0lWB2_en6v",
        "colab_type": "code",
        "outputId": "fc258cfd-028f-4564-d06f-a6faf7f6249d",
        "colab": {
          "base_uri": "https://localhost:8080/",
          "height": 35
        }
      },
      "source": [
        "mv /content/model.h5 /content/Emotion-detection/src/"
      ],
      "execution_count": 0,
      "outputs": [
        {
          "output_type": "stream",
          "text": [
            "mv: cannot stat '/content/model.h5': No such file or directory\n"
          ],
          "name": "stdout"
        }
      ]
    },
    {
      "cell_type": "markdown",
      "metadata": {
        "id": "JA3txG2IZyl-",
        "colab_type": "text"
      },
      "source": [
        "neha = 319"
      ]
    },
    {
      "cell_type": "code",
      "metadata": {
        "id": "Qw_FuVTDfaxG",
        "colab_type": "code",
        "outputId": "ad4fbb84-9403-4b71-8aec-ee9853f09d11",
        "colab": {
          "base_uri": "https://localhost:8080/",
          "height": 55
        }
      },
      "source": [
        "rm -r /content/Emotion-detection/src/new/*"
      ],
      "execution_count": 0,
      "outputs": [
        {
          "output_type": "stream",
          "text": [
            "rm: cannot remove '/content/Emotion-detection/src/new/*': No such file or directory\n"
          ],
          "name": "stdout"
        }
      ]
    },
    {
      "cell_type": "markdown",
      "metadata": {
        "id": "ZpFr2AlBewI2",
        "colab_type": "text"
      },
      "source": [
        "#run model"
      ]
    },
    {
      "cell_type": "markdown",
      "metadata": {
        "id": "xQoJ5gQhfY3c",
        "colab_type": "text"
      },
      "source": [
        "resize video"
      ]
    },
    {
      "cell_type": "code",
      "metadata": {
        "id": "b5W5T_dyfmbM",
        "colab_type": "code",
        "outputId": "0d9ad603-bdcd-4967-8d22-537b4deaa104",
        "colab": {
          "base_uri": "https://localhost:8080/",
          "height": 35
        }
      },
      "source": [
        "pwd"
      ],
      "execution_count": 0,
      "outputs": [
        {
          "output_type": "execute_result",
          "data": {
            "text/plain": [
              "'/content/Emotion-detection/src'"
            ]
          },
          "metadata": {
            "tags": []
          },
          "execution_count": 33
        }
      ]
    },
    {
      "cell_type": "code",
      "metadata": {
        "id": "6pzUvcr7fb8T",
        "colab_type": "code",
        "outputId": "0951132d-6190-4598-ac98-5ea0b604deb8",
        "colab": {
          "base_uri": "https://localhost:8080/",
          "height": 1000
        }
      },
      "source": [
        "!ffmpeg -i /content/all.mp4 -vf scale=240:320 all1.mp4"
      ],
      "execution_count": 0,
      "outputs": [
        {
          "output_type": "stream",
          "text": [
            "ffmpeg version 3.4.6-0ubuntu0.18.04.1 Copyright (c) 2000-2019 the FFmpeg developers\n",
            "  built with gcc 7 (Ubuntu 7.3.0-16ubuntu3)\n",
            "  configuration: --prefix=/usr --extra-version=0ubuntu0.18.04.1 --toolchain=hardened --libdir=/usr/lib/x86_64-linux-gnu --incdir=/usr/include/x86_64-linux-gnu --enable-gpl --disable-stripping --enable-avresample --enable-avisynth --enable-gnutls --enable-ladspa --enable-libass --enable-libbluray --enable-libbs2b --enable-libcaca --enable-libcdio --enable-libflite --enable-libfontconfig --enable-libfreetype --enable-libfribidi --enable-libgme --enable-libgsm --enable-libmp3lame --enable-libmysofa --enable-libopenjpeg --enable-libopenmpt --enable-libopus --enable-libpulse --enable-librubberband --enable-librsvg --enable-libshine --enable-libsnappy --enable-libsoxr --enable-libspeex --enable-libssh --enable-libtheora --enable-libtwolame --enable-libvorbis --enable-libvpx --enable-libwavpack --enable-libwebp --enable-libx265 --enable-libxml2 --enable-libxvid --enable-libzmq --enable-libzvbi --enable-omx --enable-openal --enable-opengl --enable-sdl2 --enable-libdc1394 --enable-libdrm --enable-libiec61883 --enable-chromaprint --enable-frei0r --enable-libopencv --enable-libx264 --enable-shared\n",
            "  libavutil      55. 78.100 / 55. 78.100\n",
            "  libavcodec     57.107.100 / 57.107.100\n",
            "  libavformat    57. 83.100 / 57. 83.100\n",
            "  libavdevice    57. 10.100 / 57. 10.100\n",
            "  libavfilter     6.107.100 /  6.107.100\n",
            "  libavresample   3.  7.  0 /  3.  7.  0\n",
            "  libswscale      4.  8.100 /  4.  8.100\n",
            "  libswresample   2.  9.100 /  2.  9.100\n",
            "  libpostproc    54.  7.100 / 54.  7.100\n",
            "Input #0, mov,mp4,m4a,3gp,3g2,mj2, from '/content/all.mp4':\n",
            "  Metadata:\n",
            "    major_brand     : mp42\n",
            "    minor_version   : 0\n",
            "    compatible_brands: mp42isom\n",
            "  Duration: 00:00:19.76, start: 0.000000, bitrate: 1866 kb/s\n",
            "    Stream #0:0(und): Video: h264 (High) (avc1 / 0x31637661), yuv420p(tv, unknown/bt470bg/unknown), 640x352, 1769 kb/s, 30.04 fps, 30 tbr, 90k tbn, 180k tbc (default)\n",
            "    Metadata:\n",
            "      rotate          : 270\n",
            "    Side data:\n",
            "      displaymatrix: rotation of 90.00 degrees\n",
            "    Stream #0:1(und): Audio: aac (LC) (mp4a / 0x6134706D), 48000 Hz, stereo, fltp, 95 kb/s (default)\n",
            "Stream mapping:\n",
            "  Stream #0:0 -> #0:0 (h264 (native) -> h264 (libx264))\n",
            "  Stream #0:1 -> #0:1 (aac (native) -> aac (native))\n",
            "Press [q] to stop, [?] for help\n",
            "\u001b[1;36m[libx264 @ 0x56412b30e800] \u001b[0musing cpu capabilities: MMX2 SSE2Fast SSSE3 SSE4.2 AVX FMA3 BMI2 AVX2\n",
            "\u001b[1;36m[libx264 @ 0x56412b30e800] \u001b[0mprofile High, level 1.3\n",
            "\u001b[1;36m[libx264 @ 0x56412b30e800] \u001b[0m264 - core 152 r2854 e9a5903 - H.264/MPEG-4 AVC codec - Copyleft 2003-2017 - http://www.videolan.org/x264.html - options: cabac=1 ref=3 deblock=1:0:0 analyse=0x3:0x113 me=hex subme=7 psy=1 psy_rd=1.00:0.00 mixed_ref=1 me_range=16 chroma_me=1 trellis=1 8x8dct=1 cqm=0 deadzone=21,11 fast_pskip=1 chroma_qp_offset=-2 threads=3 lookahead_threads=1 sliced_threads=0 nr=0 decimate=1 interlaced=0 bluray_compat=0 constrained_intra=0 bframes=3 b_pyramid=2 b_adapt=1 b_bias=0 direct=1 weightb=1 open_gop=0 weightp=2 keyint=250 keyint_min=25 scenecut=40 intra_refresh=0 rc_lookahead=40 rc=crf mbtree=1 crf=23.0 qcomp=0.60 qpmin=0 qpmax=69 qpstep=4 ip_ratio=1.40 aq=1:1.00\n",
            "Output #0, mp4, to 'all1.mp4':\n",
            "  Metadata:\n",
            "    major_brand     : mp42\n",
            "    minor_version   : 0\n",
            "    compatible_brands: mp42isom\n",
            "    encoder         : Lavf57.83.100\n",
            "    Stream #0:0(und): Video: h264 (libx264) (avc1 / 0x31637661), yuv420p(progressive), 240x320, q=-1--1, 30 fps, 15360 tbn, 30 tbc (default)\n",
            "    Metadata:\n",
            "      encoder         : Lavc57.107.100 libx264\n",
            "    Side data:\n",
            "      cpb: bitrate max/min/avg: 0/0/0 buffer size: 0 vbv_delay: -1\n",
            "      displaymatrix: rotation of -0.00 degrees\n",
            "    Stream #0:1(und): Audio: aac (LC) (mp4a / 0x6134706D), 48000 Hz, stereo, fltp, 128 kb/s (default)\n",
            "    Metadata:\n",
            "      encoder         : Lavc57.107.100 aac\n",
            "\u001b[0;33mPast duration 0.601326 too large\n",
            "\u001b[0m\u001b[0;33mPast duration 0.602333 too large\n",
            "\u001b[0m\u001b[0;33mPast duration 0.603325 too large\n",
            "\u001b[0m\u001b[0;33mPast duration 0.604332 too large\n",
            "\u001b[0m\u001b[0;33mPast duration 0.605324 too large\n",
            "\u001b[0m\u001b[0;33mPast duration 0.606331 too large\n",
            "\u001b[0m\u001b[0;33mPast duration 0.607323 too large\n",
            "\u001b[0m\u001b[0;33mPast duration 0.608330 too large\n",
            "\u001b[0m\u001b[0;33mPast duration 0.609322 too large\n",
            "\u001b[0m\u001b[0;33mPast duration 0.610329 too large\n",
            "\u001b[0m\u001b[0;33mPast duration 0.611320 too large\n",
            "\u001b[0m\u001b[0;33mPast duration 0.612328 too large\n",
            "\u001b[0m\u001b[0;33mPast duration 0.609322 too large\n",
            "\u001b[0m\u001b[0;33mPast duration 0.613991 too large\n",
            "\u001b[0m\u001b[0;33mPast duration 0.618660 too large\n",
            "\u001b[0m\u001b[0;33mPast duration 0.619652 too large\n",
            "\u001b[0m\u001b[0;33mPast duration 0.620659 too large\n",
            "\u001b[0m\u001b[0;33mPast duration 0.621666 too large\n",
            "\u001b[0m\u001b[0;33mPast duration 0.617332 too large\n",
            "\u001b[0m\u001b[0;33mPast duration 0.623985 too large\n",
            "\u001b[0m\u001b[0;33mPast duration 0.623329 too large\n",
            "\u001b[0m\u001b[0;33mPast duration 0.626656 too large\n",
            "\u001b[0m\u001b[0;33mPast duration 0.629997 too large\n",
            "\u001b[0m\u001b[0;33mPast duration 0.627327 too large\n",
            "\u001b[0m\u001b[0;33mPast duration 0.630333 too large\n",
            "\u001b[0m\u001b[0;33mPast duration 0.626656 too large\n",
            "\u001b[0m\u001b[0;33mPast duration 0.632652 too large\n",
            "\u001b[0m\u001b[0;33mPast duration 0.633995 too large\n",
            "\u001b[0m\u001b[0;33mPast duration 0.635323 too large\n",
            "\u001b[0m\u001b[0;33mPast duration 0.632652 too large\n",
            "\u001b[0m\u001b[0;33mPast duration 0.629997 too large\n",
            "\u001b[0m\u001b[0;33mPast duration 0.639000 too large\n",
            "\u001b[0m\u001b[0;33mPast duration 0.639992 too large\n",
            "\u001b[0m\u001b[0;33mPast duration 0.640999 too large\n",
            "\u001b[0m\u001b[0;33mPast duration 0.641991 too large\n",
            "\u001b[0m\u001b[0;33mPast duration 0.642998 too large\n",
            "\u001b[0m\u001b[0;33mPast duration 0.643990 too large\n",
            "\u001b[0m\u001b[0;33mPast duration 0.644997 too large\n",
            "\u001b[0m\u001b[0;33mPast duration 0.641319 too large\n",
            "\u001b[0m\u001b[0;33mPast duration 0.644997 too large\n",
            "\u001b[0m\u001b[0;33mPast duration 0.648659 too large\n",
            "\u001b[0m\u001b[0;33mPast duration 0.652321 too large\n",
            "\u001b[0m\u001b[0;33mPast duration 0.651985 too large\n",
            "\u001b[0;33mPast duration 0.651665 too large\n",
            "\u001b[0m\u001b[0;33mPast duration 0.651329 too large\n",
            "\u001b[0m\u001b[0;33mPast duration 0.655663 too large\n",
            "\u001b[0m\u001b[0;33mPast duration 0.653328 too large\n",
            "\u001b[0m\u001b[0;33mPast duration 0.657997 too large\n",
            "\u001b[0m\u001b[0;33mPast duration 0.659325 too large\n",
            "\u001b[0m\u001b[0;33mPast duration 0.656990 too large\n",
            "\u001b[0m\u001b[0;33mPast duration 0.661659 too large\n",
            "\u001b[0m\u001b[0;33mPast duration 0.661995 too large\n",
            "\u001b[0m\u001b[0;33mPast duration 0.662331 too large\n",
            "\u001b[0m\u001b[0;33mPast duration 0.662666 too large\n",
            "\u001b[0m\u001b[0;33mPast duration 0.666328 too large\n",
            "\u001b[0m\u001b[0;33mPast duration 0.669991 too large\n",
            "\u001b[0m\u001b[0;33mPast duration 0.665993 too large\n",
            "\u001b[0m\u001b[0;33mPast duration 0.669991 too large\n",
            "\u001b[0m\u001b[0;33mPast duration 0.673988 too large\n",
            "\u001b[0m\u001b[0;33mPast duration 0.668999 too large\n",
            "\u001b[0m\u001b[0;33mPast duration 0.673988 too large\n",
            "\u001b[0m\u001b[0;33mPast duration 0.670326 too large\n",
            "\u001b[0m\u001b[0;33mPast duration 0.676323 too large\n",
            "\u001b[0m\u001b[0;33mPast duration 0.677666 too large\n",
            "\u001b[0m\u001b[0;33mPast duration 0.678993 too large\n",
            "\u001b[0m\u001b[0;33mPast duration 0.676323 too large\n",
            "\u001b[0m\u001b[0;33mPast duration 0.680992 too large\n",
            "\u001b[0m\u001b[0;33mPast duration 0.679665 too large\n",
            "\u001b[0m\u001b[0;33mPast duration 0.678322 too large\n",
            "\u001b[0m\u001b[0;33mPast duration 0.684990 too large\n",
            "\u001b[0m\u001b[0;33mPast duration 0.685997 too large\n",
            "\u001b[0m\u001b[0;33mPast duration 0.686989 too large\n",
            "\u001b[0m\u001b[0;33mPast duration 0.687996 too large\n",
            "\u001b[0m\u001b[0;33mPast duration 0.688988 too large\n",
            "\u001b[0m\u001b[0;33mPast duration 0.689995 too large\n",
            "\u001b[0m\u001b[0;33mPast duration 0.690987 too large\n",
            "\u001b[0m\u001b[0;33mPast duration 0.691994 too large\n",
            "\u001b[0m\u001b[0;33mPast duration 0.692986 too large\n",
            "\u001b[0m\u001b[0;33mPast duration 0.693993 too large\n",
            "\u001b[0m\u001b[0;33mPast duration 0.695000 too large\n",
            "\u001b[0m\u001b[0;33mPast duration 0.692329 too large\n",
            "\u001b[0m\u001b[0;33mPast duration 0.692665 too large\n",
            "\u001b[0m\u001b[0;33mPast duration 0.697319 too large\n",
            "\u001b[0m\u001b[0;33mPast duration 0.697990 too large\n",
            "\u001b[0m\u001b[0;33mPast duration 0.698662 too large\n",
            "\u001b[0m\u001b[0;33mPast duration 0.704323 too large\n",
            "\u001b[0m\u001b[0;33mPast duration 0.701332 too large\n",
            "\u001b[0m\u001b[0;33mPast duration 0.698326 too large\n",
            "\u001b[0m\u001b[0;33mPast duration 0.707985 too large\n",
            "\u001b[0m\u001b[0;33mPast duration 0.705330 too large\n",
            "\u001b[0m\u001b[0;33mPast duration 0.706993 too large\n",
            "\u001b[0m\u001b[0;33mPast duration 0.711662 too large\n",
            "\u001b[0m\u001b[0;33mPast duration 0.709328 too large\n",
            "\u001b[0m\u001b[0;33mPast duration 0.713997 too large\n",
            "\u001b[0m\u001b[0;33mPast duration 0.715324 too large\n",
            "\u001b[0m\u001b[0;33mPast duration 0.716652 too large\n",
            "\u001b[0m\u001b[0;33mPast duration 0.711327 too large\n",
            "\u001b[0m\u001b[0;33mPast duration 0.718987 too large\n",
            "\u001b[0m\u001b[0;33mPast duration 0.716988 too large\n",
            "\u001b[0m\u001b[0;33mPast duration 0.721321 too large\n",
            "\u001b[0m\u001b[0;33mPast duration 0.725655 too large\n",
            "\u001b[0m\u001b[0;33mPast duration 0.724327 too large\n",
            "\u001b[0mframe=  592 fps=168 q=-1.0 Lsize=     582kB time=00:00:19.75 bitrate= 241.5kbits/s speed=5.61x    \n",
            "video:249kB audio:311kB subtitle:0kB other streams:0kB global headers:0kB muxing overhead: 4.031271%\n",
            "\u001b[1;36m[libx264 @ 0x56412b30e800] \u001b[0mframe I:3     Avg QP:21.24  size:  8790\n",
            "\u001b[1;36m[libx264 @ 0x56412b30e800] \u001b[0mframe P:149   Avg QP:23.45  size:  1131\n",
            "\u001b[1;36m[libx264 @ 0x56412b30e800] \u001b[0mframe B:440   Avg QP:27.90  size:   135\n",
            "\u001b[1;36m[libx264 @ 0x56412b30e800] \u001b[0mconsecutive B-frames:  0.8%  0.0%  0.5% 98.6%\n",
            "\u001b[1;36m[libx264 @ 0x56412b30e800] \u001b[0mmb I  I16..4:  2.2% 50.4% 47.3%\n",
            "\u001b[1;36m[libx264 @ 0x56412b30e800] \u001b[0mmb P  I16..4:  0.1%  0.5%  0.1%  P16..4: 44.4% 17.0% 11.1%  0.0%  0.0%    skip:27.0%\n",
            "\u001b[1;36m[libx264 @ 0x56412b30e800] \u001b[0mmb B  I16..4:  0.0%  0.0%  0.0%  B16..8: 39.6%  0.7%  0.1%  direct: 0.1%  skip:59.6%  L0:45.5% L1:52.8% BI: 1.7%\n",
            "\u001b[1;36m[libx264 @ 0x56412b30e800] \u001b[0m8x8 transform intra:57.8% inter:67.9%\n",
            "\u001b[1;36m[libx264 @ 0x56412b30e800] \u001b[0mcoded y,uvDC,uvAC intra: 69.6% 72.0% 45.1% inter: 5.4% 8.6% 0.3%\n",
            "\u001b[1;36m[libx264 @ 0x56412b30e800] \u001b[0mi16 v,h,dc,p: 20% 27% 27% 27%\n",
            "\u001b[1;36m[libx264 @ 0x56412b30e800] \u001b[0mi8 v,h,dc,ddl,ddr,vr,hd,vl,hu: 15% 17% 29%  4%  7%  6% 10%  4%  8%\n",
            "\u001b[1;36m[libx264 @ 0x56412b30e800] \u001b[0mi4 v,h,dc,ddl,ddr,vr,hd,vl,hu: 17% 16% 10%  4% 16%  8% 18%  4%  6%\n",
            "\u001b[1;36m[libx264 @ 0x56412b30e800] \u001b[0mi8c dc,h,v,p: 50% 24% 20%  6%\n",
            "\u001b[1;36m[libx264 @ 0x56412b30e800] \u001b[0mWeighted P-Frames: Y:3.4% UV:0.7%\n",
            "\u001b[1;36m[libx264 @ 0x56412b30e800] \u001b[0mref P L0: 57.6% 14.7% 18.4%  9.1%  0.2%\n",
            "\u001b[1;36m[libx264 @ 0x56412b30e800] \u001b[0mref B L0: 84.3% 11.7%  3.9%\n",
            "\u001b[1;36m[libx264 @ 0x56412b30e800] \u001b[0mref B L1: 92.4%  7.6%\n",
            "\u001b[1;36m[libx264 @ 0x56412b30e800] \u001b[0mkb/s:102.99\n",
            "\u001b[1;36m[aac @ 0x56412b30f700] \u001b[0mQavg: 794.950\n"
          ],
          "name": "stdout"
        }
      ]
    },
    {
      "cell_type": "code",
      "metadata": {
        "id": "TAsb2KWEhUll",
        "colab_type": "code",
        "colab": {}
      },
      "source": [
        "rm -r /content/Emotion-detection/src/new1/*"
      ],
      "execution_count": 0,
      "outputs": []
    },
    {
      "cell_type": "code",
      "metadata": {
        "id": "22167zFYEYLg",
        "colab_type": "code",
        "outputId": "08c73851-9137-4245-9466-164d108d900f",
        "colab": {
          "base_uri": "https://localhost:8080/",
          "height": 90
        }
      },
      "source": [
        "!python emotions.py --mode display"
      ],
      "execution_count": 0,
      "outputs": [
        {
          "output_type": "stream",
          "text": [
            "/usr/local/lib/python3.6/dist-packages/IPython/utils/traitlets.py:5: UserWarning: IPython.utils.traitlets has moved to a top-level traitlets package.\n",
            "  warn(\"IPython.utils.traitlets has moved to a top-level traitlets package.\")\n",
            "time: 0:00:24.012966\n"
          ],
          "name": "stdout"
        }
      ]
    },
    {
      "cell_type": "code",
      "metadata": {
        "id": "glZYRfdVVRL_",
        "colab_type": "code",
        "colab": {}
      },
      "source": [
        "rm -r /content/Emotion-detection/src/new/*"
      ],
      "execution_count": 0,
      "outputs": []
    },
    {
      "cell_type": "markdown",
      "metadata": {
        "id": "DWh3d2Qhpq9R",
        "colab_type": "text"
      },
      "source": [
        "neha :\n",
        "1) happy = 10\n",
        "2) neytral = \n",
        "3) fearful = 17\n",
        "\n",
        "*   List item\n",
        "*   List item\n",
        "\n"
      ]
    },
    {
      "cell_type": "markdown",
      "metadata": {
        "id": "s6g5ZX4Duy3t",
        "colab_type": "text"
      },
      "source": [
        "dil\n",
        "fear = 4\n"
      ]
    },
    {
      "cell_type": "code",
      "metadata": {
        "id": "F1lha753854Z",
        "colab_type": "code",
        "outputId": "1b9d3ad7-010c-4755-cc93-f1c7ad86a4ab",
        "colab": {
          "base_uri": "https://localhost:8080/",
          "height": 192
        }
      },
      "source": [
        "!python te.py --mode display"
      ],
      "execution_count": 0,
      "outputs": [
        {
          "output_type": "stream",
          "text": [
            "/usr/local/lib/python3.6/dist-packages/IPython/utils/traitlets.py:5: UserWarning: IPython.utils.traitlets has moved to a top-level traitlets package.\n",
            "  warn(\"IPython.utils.traitlets has moved to a top-level traitlets package.\")\n",
            "ll0 surprised\n",
            "ll0 surprised\n",
            "ll0 surprised\n",
            "ll0 surprised\n",
            "ll0 surprised\n"
          ],
          "name": "stdout"
        }
      ]
    },
    {
      "cell_type": "markdown",
      "metadata": {
        "id": "DJPCKlUkC0_E",
        "colab_type": "text"
      },
      "source": [
        ""
      ]
    },
    {
      "cell_type": "code",
      "metadata": {
        "id": "9lXuuTDNGbWi",
        "colab_type": "code",
        "outputId": "64376d89-57e8-4013-ddf0-f8d5e340d4fc",
        "colab": {
          "base_uri": "https://localhost:8080/",
          "height": 35
        }
      },
      "source": [
        "pwd\n",
        " cv2.resize(frame,(1600,960),interpolation = cv2.INTER_CUBIC"
      ],
      "execution_count": 0,
      "outputs": [
        {
          "output_type": "execute_result",
          "data": {
            "text/plain": [
              "'/content/Emotion-detection/src'"
            ]
          },
          "metadata": {
            "tags": []
          },
          "execution_count": 18
        }
      ]
    },
    {
      "cell_type": "code",
      "metadata": {
        "id": "eGb_3uNoHhfJ",
        "colab_type": "code",
        "colab": {}
      },
      "source": [
        "import cv2"
      ],
      "execution_count": 0,
      "outputs": []
    },
    {
      "cell_type": "code",
      "metadata": {
        "id": "X6c5Iyy_Jtqk",
        "colab_type": "code",
        "colab": {}
      },
      "source": [
        " from google.colab.patches import cv2_imshow"
      ],
      "execution_count": 0,
      "outputs": []
    },
    {
      "cell_type": "code",
      "metadata": {
        "id": "wi1uQO56GcO0",
        "colab_type": "code",
        "outputId": "5c43c558-b735-482c-9774-888ac3f320ca",
        "colab": {
          "base_uri": "https://localhost:8080/",
          "height": 295
        }
      },
      "source": [
        "a = cv2.imread(\"/content/R.jpg\")\n",
        "print(a.shape)\n",
        "cv2_imshow(a)"
      ],
      "execution_count": 0,
      "outputs": [
        {
          "output_type": "stream",
          "text": [
            "(260, 201, 3)\n"
          ],
          "name": "stdout"
        },
        {
          "output_type": "display_data",
          "data": {
            "image/png": "[encoded data removed]",
            "text/plain": [
              "<PIL.Image.Image image mode=RGB size=201x260 at 0x7F042D4BD0F0>"
            ]
          },
          "metadata": {
            "tags": []
          }
        }
      ]
    },
    {
      "cell_type": "code",
      "metadata": {
        "id": "QU7Yfyn0TchO",
        "colab_type": "code",
        "outputId": "66e8ed40-62f5-442a-d8a0-813f2cfb89f6",
        "colab": {
          "base_uri": "https://localhost:8080/",
          "height": 236
        }
      },
      "source": [
        "a = cv2.imread(\"/content/a.jpg\")\n",
        "r = cv2.resize(a,(260,201))\n",
        "cv2.imwrite(\"/content/aa.jpg\",r)\n",
        "print(a.shape)\n",
        "cv2_imshow(r)"
      ],
      "execution_count": 0,
      "outputs": [
        {
          "output_type": "stream",
          "text": [
            "(4623, 3460, 3)\n"
          ],
          "name": "stdout"
        },
        {
          "output_type": "display_data",
          "data": {
            "image/png": "[encoded data removed]",
            "text/plain": [
              "<PIL.Image.Image image mode=RGB size=260x201 at 0x7F042BB70320>"
            ]
          },
          "metadata": {
            "tags": []
          }
        }
      ]
    },
    {
      "cell_type": "code",
      "metadata": {
        "id": "CxNEbMw_M0Wq",
        "colab_type": "code",
        "outputId": "bd6ed717-b0a2-41ae-f08a-854d6daea8c6",
        "colab": {
          "base_uri": "https://localhost:8080/",
          "height": 35
        }
      },
      "source": [
        "pwd"
      ],
      "execution_count": 0,
      "outputs": [
        {
          "output_type": "execute_result",
          "data": {
            "text/plain": [
              "'/content/Emotion-detection'"
            ]
          },
          "metadata": {
            "tags": []
          },
          "execution_count": 11
        }
      ]
    },
    {
      "cell_type": "code",
      "metadata": {
        "id": "A9bGAp-7Y4r4",
        "colab_type": "code",
        "outputId": "05a34da7-ccb6-4764-f85c-f2f0ad087caf",
        "colab": {
          "base_uri": "https://localhost:8080/",
          "height": 1000
        }
      },
      "source": [
        "!ffmpeg -i /content/ll.mp4 -vf scale=240:320 nn5.mp4"
      ],
      "execution_count": 0,
      "outputs": [
        {
          "output_type": "stream",
          "text": [
            "ffmpeg version 3.4.6-0ubuntu0.18.04.1 Copyright (c) 2000-2019 the FFmpeg developers\n",
            "  built with gcc 7 (Ubuntu 7.3.0-16ubuntu3)\n",
            "  configuration: --prefix=/usr --extra-version=0ubuntu0.18.04.1 --toolchain=hardened --libdir=/usr/lib/x86_64-linux-gnu --incdir=/usr/include/x86_64-linux-gnu --enable-gpl --disable-stripping --enable-avresample --enable-avisynth --enable-gnutls --enable-ladspa --enable-libass --enable-libbluray --enable-libbs2b --enable-libcaca --enable-libcdio --enable-libflite --enable-libfontconfig --enable-libfreetype --enable-libfribidi --enable-libgme --enable-libgsm --enable-libmp3lame --enable-libmysofa --enable-libopenjpeg --enable-libopenmpt --enable-libopus --enable-libpulse --enable-librubberband --enable-librsvg --enable-libshine --enable-libsnappy --enable-libsoxr --enable-libspeex --enable-libssh --enable-libtheora --enable-libtwolame --enable-libvorbis --enable-libvpx --enable-libwavpack --enable-libwebp --enable-libx265 --enable-libxml2 --enable-libxvid --enable-libzmq --enable-libzvbi --enable-omx --enable-openal --enable-opengl --enable-sdl2 --enable-libdc1394 --enable-libdrm --enable-libiec61883 --enable-chromaprint --enable-frei0r --enable-libopencv --enable-libx264 --enable-shared\n",
            "  libavutil      55. 78.100 / 55. 78.100\n",
            "  libavcodec     57.107.100 / 57.107.100\n",
            "  libavformat    57. 83.100 / 57. 83.100\n",
            "  libavdevice    57. 10.100 / 57. 10.100\n",
            "  libavfilter     6.107.100 /  6.107.100\n",
            "  libavresample   3.  7.  0 /  3.  7.  0\n",
            "  libswscale      4.  8.100 /  4.  8.100\n",
            "  libswresample   2.  9.100 /  2.  9.100\n",
            "  libpostproc    54.  7.100 / 54.  7.100\n",
            "Input #0, mov,mp4,m4a,3gp,3g2,mj2, from '/content/ll.mp4':\n",
            "  Metadata:\n",
            "    major_brand     : mp42\n",
            "    minor_version   : 0\n",
            "    compatible_brands: mp42isom\n",
            "  Duration: 00:00:11.66, start: 0.000000, bitrate: 719 kb/s\n",
            "    Stream #0:0(und): Video: h264 (High) (avc1 / 0x31637661), yuv420p(tv, unknown/bt470bg/unknown), 640x352, 1896 kb/s, 30.04 fps, 30 tbr, 90k tbn, 180k tbc (default)\n",
            "    Metadata:\n",
            "      rotate          : 270\n",
            "    Side data:\n",
            "      displaymatrix: rotation of 90.00 degrees\n",
            "    Stream #0:1(und): Audio: aac (LC) (mp4a / 0x6134706D), 48000 Hz, stereo, fltp, 95 kb/s (default)\n",
            "Stream mapping:\n",
            "  Stream #0:0 -> #0:0 (h264 (native) -> h264 (libx264))\n",
            "  Stream #0:1 -> #0:1 (aac (native) -> aac (native))\n",
            "Press [q] to stop, [?] for help\n",
            "\u001b[1;36m[libx264 @ 0x556475b5c800] \u001b[0musing cpu capabilities: MMX2 SSE2Fast SSSE3 SSE4.2 AVX FMA3 BMI2 AVX2\n",
            "\u001b[1;36m[libx264 @ 0x556475b5c800] \u001b[0mprofile High, level 1.3\n",
            "\u001b[1;36m[libx264 @ 0x556475b5c800] \u001b[0m264 - core 152 r2854 e9a5903 - H.264/MPEG-4 AVC codec - Copyleft 2003-2017 - http://www.videolan.org/x264.html - options: cabac=1 ref=3 deblock=1:0:0 analyse=0x3:0x113 me=hex subme=7 psy=1 psy_rd=1.00:0.00 mixed_ref=1 me_range=16 chroma_me=1 trellis=1 8x8dct=1 cqm=0 deadzone=21,11 fast_pskip=1 chroma_qp_offset=-2 threads=3 lookahead_threads=1 sliced_threads=0 nr=0 decimate=1 interlaced=0 bluray_compat=0 constrained_intra=0 bframes=3 b_pyramid=2 b_adapt=1 b_bias=0 direct=1 weightb=1 open_gop=0 weightp=2 keyint=250 keyint_min=25 scenecut=40 intra_refresh=0 rc_lookahead=40 rc=crf mbtree=1 crf=23.0 qcomp=0.60 qpmin=0 qpmax=69 qpstep=4 ip_ratio=1.40 aq=1:1.00\n",
            "Output #0, mp4, to 'nn5.mp4':\n",
            "  Metadata:\n",
            "    major_brand     : mp42\n",
            "    minor_version   : 0\n",
            "    compatible_brands: mp42isom\n",
            "    encoder         : Lavf57.83.100\n",
            "    Stream #0:0(und): Video: h264 (libx264) (avc1 / 0x31637661), yuv420p(progressive), 240x320, q=-1--1, 30 fps, 15360 tbn, 30 tbc (default)\n",
            "    Metadata:\n",
            "      encoder         : Lavc57.107.100 libx264\n",
            "    Side data:\n",
            "      cpb: bitrate max/min/avg: 0/0/0 buffer size: 0 vbv_delay: -1\n",
            "      displaymatrix: rotation of -0.00 degrees\n",
            "    Stream #0:1(und): Audio: aac (LC) (mp4a / 0x6134706D), 48000 Hz, stereo, fltp, 128 kb/s (default)\n",
            "    Metadata:\n",
            "      encoder         : Lavc57.107.100 aac\n",
            "frame=   92 fps=0.0 q=29.0 size=       0kB time=00:00:02.68 bitrate=   0.1kbits/s speed=5.34x    \r\u001b[0;36m[h264 @ 0x556475baaa00] \u001b[0m\u001b[1;31mInvalid NAL unit size (10044 > 2474).\n",
            "\u001b[0m\u001b[0;36m[h264 @ 0x556475baaa00] \u001b[0m\u001b[1;31mError splitting the input into NAL units.\n",
            "\u001b[0m\u001b[1;31mError while decoding stream #0:0: Invalid data found when processing input\n",
            "\u001b[0mframe=  128 fps=0.0 q=-1.0 Lsize=     149kB time=00:00:04.16 bitrate= 293.5kbits/s speed=4.61x    \n",
            "video:79kB audio:64kB subtitle:0kB other streams:0kB global headers:0kB muxing overhead: 4.054762%\n",
            "\u001b[1;36m[libx264 @ 0x556475b5c800] \u001b[0mframe I:1     Avg QP:23.77  size:  7986\n",
            "\u001b[1;36m[libx264 @ 0x556475b5c800] \u001b[0mframe P:32    Avg QP:23.91  size:  1641\n",
            "\u001b[1;36m[libx264 @ 0x556475b5c800] \u001b[0mframe B:95    Avg QP:28.84  size:   209\n",
            "\u001b[1;36m[libx264 @ 0x556475b5c800] \u001b[0mconsecutive B-frames:  0.8%  0.0%  2.3% 96.9%\n",
            "\u001b[1;36m[libx264 @ 0x556475b5c800] \u001b[0mmb I  I16..4: 14.0% 51.7% 34.3%\n",
            "\u001b[1;36m[libx264 @ 0x556475b5c800] \u001b[0mmb P  I16..4:  0.6%  0.9%  0.3%  P16..4: 47.2% 20.6% 10.8%  0.0%  0.0%    skip:19.6%\n",
            "\u001b[1;36m[libx264 @ 0x556475b5c800] \u001b[0mmb B  I16..4:  0.0%  0.0%  0.0%  B16..8: 44.3%  2.1%  0.3%  direct: 0.4%  skip:53.0%  L0:44.9% L1:50.0% BI: 5.1%\n",
            "\u001b[1;36m[libx264 @ 0x556475b5c800] \u001b[0m8x8 transform intra:50.6% inter:65.7%\n",
            "\u001b[1;36m[libx264 @ 0x556475b5c800] \u001b[0mcoded y,uvDC,uvAC intra: 69.0% 73.8% 32.8% inter: 8.1% 10.3% 0.7%\n",
            "\u001b[1;36m[libx264 @ 0x556475b5c800] \u001b[0mi16 v,h,dc,p:  5% 52%  4% 39%\n",
            "\u001b[1;36m[libx264 @ 0x556475b5c800] \u001b[0mi8 v,h,dc,ddl,ddr,vr,hd,vl,hu: 11% 21% 15%  8%  8%  8% 10%  8% 10%\n",
            "\u001b[1;36m[libx264 @ 0x556475b5c800] \u001b[0mi4 v,h,dc,ddl,ddr,vr,hd,vl,hu: 15% 14% 10%  6% 14% 13% 11%  9%  7%\n",
            "\u001b[1;36m[libx264 @ 0x556475b5c800] \u001b[0mi8c dc,h,v,p: 56% 18% 19%  7%\n",
            "\u001b[1;36m[libx264 @ 0x556475b5c800] \u001b[0mWeighted P-Frames: Y:18.8% UV:6.2%\n",
            "\u001b[1;36m[libx264 @ 0x556475b5c800] \u001b[0mref P L0: 59.4% 17.8% 14.3%  7.5%  0.9%\n",
            "\u001b[1;36m[libx264 @ 0x556475b5c800] \u001b[0mref B L0: 86.4% 10.6%  3.0%\n",
            "\u001b[1;36m[libx264 @ 0x556475b5c800] \u001b[0mref B L1: 94.0%  6.0%\n",
            "\u001b[1;36m[libx264 @ 0x556475b5c800] \u001b[0mkb/s:150.76\n",
            "\u001b[1;36m[aac @ 0x556475b5d700] \u001b[0mQavg: 1940.405\n"
          ],
          "name": "stdout"
        }
      ]
    },
    {
      "cell_type": "code",
      "metadata": {
        "id": "NUODz2UEmKg6",
        "colab_type": "code",
        "outputId": "a6501693-3b95-441d-abbb-7bef6f598193",
        "colab": {
          "base_uri": "https://localhost:8080/",
          "height": 35
        }
      },
      "source": [
        "pwd"
      ],
      "execution_count": 0,
      "outputs": [
        {
          "output_type": "execute_result",
          "data": {
            "text/plain": [
              "'/content/Emotion-detection/src'"
            ]
          },
          "metadata": {
            "tags": []
          },
          "execution_count": 27
        }
      ]
    },
    {
      "cell_type": "code",
      "metadata": {
        "id": "Z3mP7VZ7jl7S",
        "colab_type": "code",
        "colab": {}
      },
      "source": [
        "cap = cv2.VideoCapture(0)\n",
        "rect, frame = cap.read()\n",
        "dim = (width, height)\n",
        "print(cv2.resize(frame, dim, interpolation =cv2.INTER_AREA))"
      ],
      "execution_count": 0,
      "outputs": []
    },
    {
      "cell_type": "code",
      "metadata": {
        "id": "8QtKRAKoMSTT",
        "colab_type": "code",
        "outputId": "14c6933b-b4bb-44d4-c7dc-f78cb934b6e6",
        "colab": {
          "base_uri": "https://localhost:8080/",
          "height": 35
        }
      },
      "source": [
        "cap = cv2.VideoCapture(\"/content/Dil Duffer.mp4\")\n",
        "r,frame = cap.read()\n",
        "print(frame.shape)"
      ],
      "execution_count": 0,
      "outputs": [
        {
          "output_type": "stream",
          "text": [
            "(240, 320, 3)\n"
          ],
          "name": "stdout"
        }
      ]
    },
    {
      "cell_type": "code",
      "metadata": {
        "id": "E8KhO9g3MjMq",
        "colab_type": "code",
        "outputId": "6e869b19-8b09-4aee-9465-063af28ed0fb",
        "colab": {
          "base_uri": "https://localhost:8080/",
          "height": 35
        }
      },
      "source": [
        "cap = cv2.VideoCapture(\"/content/PM.mp4\")\n",
        "r,frame = cap.read()\n",
        "print(frame.shape)"
      ],
      "execution_count": 0,
      "outputs": [
        {
          "output_type": "stream",
          "text": [
            "(352, 640, 3)\n"
          ],
          "name": "stdout"
        }
      ]
    },
    {
      "cell_type": "code",
      "metadata": {
        "id": "sPht65PZaRKu",
        "colab_type": "code",
        "colab": {}
      },
      "source": [
        "import cv2\n",
        "vidcap = cv2.VideoCapture('/content/Emotion-detection/src/nn.mp4')\n",
        "hasFrames,image = vidcap.read()\n",
        "def getFrame(sec):\n",
        "    vidcap.set(cv2.CAP_PROP_POS_MSEC,sec*1000)\n",
        "    hasFrames,image = vidcap.read()\n",
        "    if hasFrames:\n",
        "        cv2.imwrite(\"frame \"+str(sec)+\" sec.jpg\", image)     # save frame as JPG file\n",
        "    return hasFrames\n",
        "sec = 0\n",
        "frameRate = 0.5//it will capture image in each 0.5 second\n",
        "success = getFrame(sec)\n",
        "while success:\n",
        "    sec = sec + frameRate\n",
        "    sec = round(sec, 2)\n",
        "    success = getFrame(sec)\n",
        "\n"
      ],
      "execution_count": 0,
      "outputs": []
    }
  ]
}